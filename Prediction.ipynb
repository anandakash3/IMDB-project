{
 "cells": [
  {
   "cell_type": "code",
   "execution_count": 1,
   "id": "0097ad8a-0f27-4ed2-8ac3-2b6f16606669",
   "metadata": {},
   "outputs": [],
   "source": [
    "# Step 1: Import Libraries and Load the Model\n",
    "import numpy as np\n",
    "import tensorflow as tf\n",
    "from tensorflow.keras.datasets import imdb\n",
    "from tensorflow.keras.preprocessing import sequence\n",
    "from tensorflow.keras.models import load_model"
   ]
  },
  {
   "cell_type": "code",
   "execution_count": 2,
   "id": "896e262d-06b7-42a3-8f3d-5945655e219f",
   "metadata": {},
   "outputs": [],
   "source": [
    "# Load the IMDB dataset word index\n",
    "word_index = imdb.get_word_index()\n",
    "reverse_word_index = {value: key for key, value in word_index.items()}"
   ]
  },
  {
   "cell_type": "code",
   "execution_count": 3,
   "id": "750fd583-7204-494d-8e77-4dd4474e9b3e",
   "metadata": {},
   "outputs": [
    {
     "name": "stderr",
     "output_type": "stream",
     "text": [
      "WARNING:absl:Compiled the loaded model, but the compiled metrics have yet to be built. `model.compile_metrics` will be empty until you train or evaluate the model.\n"
     ]
    },
    {
     "data": {
      "text/html": [
       "<pre style=\"white-space:pre;overflow-x:auto;line-height:normal;font-family:Menlo,'DejaVu Sans Mono',consolas,'Courier New',monospace\"><span style=\"font-weight: bold\">Model: \"sequential_1\"</span>\n",
       "</pre>\n"
      ],
      "text/plain": [
       "\u001b[1mModel: \"sequential_1\"\u001b[0m\n"
      ]
     },
     "metadata": {},
     "output_type": "display_data"
    },
    {
     "data": {
      "text/html": [
       "<pre style=\"white-space:pre;overflow-x:auto;line-height:normal;font-family:Menlo,'DejaVu Sans Mono',consolas,'Courier New',monospace\">┏━━━━━━━━━━━━━━━━━━━━━━━━━━━━━━━━━┳━━━━━━━━━━━━━━━━━━━━━━━━┳━━━━━━━━━━━━━━━┓\n",
       "┃<span style=\"font-weight: bold\"> Layer (type)                    </span>┃<span style=\"font-weight: bold\"> Output Shape           </span>┃<span style=\"font-weight: bold\">       Param # </span>┃\n",
       "┡━━━━━━━━━━━━━━━━━━━━━━━━━━━━━━━━━╇━━━━━━━━━━━━━━━━━━━━━━━━╇━━━━━━━━━━━━━━━┩\n",
       "│ embedding_1 (<span style=\"color: #0087ff; text-decoration-color: #0087ff\">Embedding</span>)         │ (<span style=\"color: #00af00; text-decoration-color: #00af00\">32</span>, <span style=\"color: #00af00; text-decoration-color: #00af00\">500</span>, <span style=\"color: #00af00; text-decoration-color: #00af00\">128</span>)         │     <span style=\"color: #00af00; text-decoration-color: #00af00\">1,280,000</span> │\n",
       "├─────────────────────────────────┼────────────────────────┼───────────────┤\n",
       "│ simple_rnn_1 (<span style=\"color: #0087ff; text-decoration-color: #0087ff\">SimpleRNN</span>)        │ (<span style=\"color: #00af00; text-decoration-color: #00af00\">32</span>, <span style=\"color: #00af00; text-decoration-color: #00af00\">128</span>)              │        <span style=\"color: #00af00; text-decoration-color: #00af00\">32,896</span> │\n",
       "├─────────────────────────────────┼────────────────────────┼───────────────┤\n",
       "│ dense_1 (<span style=\"color: #0087ff; text-decoration-color: #0087ff\">Dense</span>)                 │ (<span style=\"color: #00af00; text-decoration-color: #00af00\">32</span>, <span style=\"color: #00af00; text-decoration-color: #00af00\">1</span>)                │           <span style=\"color: #00af00; text-decoration-color: #00af00\">129</span> │\n",
       "└─────────────────────────────────┴────────────────────────┴───────────────┘\n",
       "</pre>\n"
      ],
      "text/plain": [
       "┏━━━━━━━━━━━━━━━━━━━━━━━━━━━━━━━━━┳━━━━━━━━━━━━━━━━━━━━━━━━┳━━━━━━━━━━━━━━━┓\n",
       "┃\u001b[1m \u001b[0m\u001b[1mLayer (type)                   \u001b[0m\u001b[1m \u001b[0m┃\u001b[1m \u001b[0m\u001b[1mOutput Shape          \u001b[0m\u001b[1m \u001b[0m┃\u001b[1m \u001b[0m\u001b[1m      Param #\u001b[0m\u001b[1m \u001b[0m┃\n",
       "┡━━━━━━━━━━━━━━━━━━━━━━━━━━━━━━━━━╇━━━━━━━━━━━━━━━━━━━━━━━━╇━━━━━━━━━━━━━━━┩\n",
       "│ embedding_1 (\u001b[38;5;33mEmbedding\u001b[0m)         │ (\u001b[38;5;34m32\u001b[0m, \u001b[38;5;34m500\u001b[0m, \u001b[38;5;34m128\u001b[0m)         │     \u001b[38;5;34m1,280,000\u001b[0m │\n",
       "├─────────────────────────────────┼────────────────────────┼───────────────┤\n",
       "│ simple_rnn_1 (\u001b[38;5;33mSimpleRNN\u001b[0m)        │ (\u001b[38;5;34m32\u001b[0m, \u001b[38;5;34m128\u001b[0m)              │        \u001b[38;5;34m32,896\u001b[0m │\n",
       "├─────────────────────────────────┼────────────────────────┼───────────────┤\n",
       "│ dense_1 (\u001b[38;5;33mDense\u001b[0m)                 │ (\u001b[38;5;34m32\u001b[0m, \u001b[38;5;34m1\u001b[0m)                │           \u001b[38;5;34m129\u001b[0m │\n",
       "└─────────────────────────────────┴────────────────────────┴───────────────┘\n"
      ]
     },
     "metadata": {},
     "output_type": "display_data"
    },
    {
     "data": {
      "text/html": [
       "<pre style=\"white-space:pre;overflow-x:auto;line-height:normal;font-family:Menlo,'DejaVu Sans Mono',consolas,'Courier New',monospace\"><span style=\"font-weight: bold\"> Total params: </span><span style=\"color: #00af00; text-decoration-color: #00af00\">1,313,027</span> (5.01 MB)\n",
       "</pre>\n"
      ],
      "text/plain": [
       "\u001b[1m Total params: \u001b[0m\u001b[38;5;34m1,313,027\u001b[0m (5.01 MB)\n"
      ]
     },
     "metadata": {},
     "output_type": "display_data"
    },
    {
     "data": {
      "text/html": [
       "<pre style=\"white-space:pre;overflow-x:auto;line-height:normal;font-family:Menlo,'DejaVu Sans Mono',consolas,'Courier New',monospace\"><span style=\"font-weight: bold\"> Trainable params: </span><span style=\"color: #00af00; text-decoration-color: #00af00\">1,313,025</span> (5.01 MB)\n",
       "</pre>\n"
      ],
      "text/plain": [
       "\u001b[1m Trainable params: \u001b[0m\u001b[38;5;34m1,313,025\u001b[0m (5.01 MB)\n"
      ]
     },
     "metadata": {},
     "output_type": "display_data"
    },
    {
     "data": {
      "text/html": [
       "<pre style=\"white-space:pre;overflow-x:auto;line-height:normal;font-family:Menlo,'DejaVu Sans Mono',consolas,'Courier New',monospace\"><span style=\"font-weight: bold\"> Non-trainable params: </span><span style=\"color: #00af00; text-decoration-color: #00af00\">0</span> (0.00 B)\n",
       "</pre>\n"
      ],
      "text/plain": [
       "\u001b[1m Non-trainable params: \u001b[0m\u001b[38;5;34m0\u001b[0m (0.00 B)\n"
      ]
     },
     "metadata": {},
     "output_type": "display_data"
    },
    {
     "data": {
      "text/html": [
       "<pre style=\"white-space:pre;overflow-x:auto;line-height:normal;font-family:Menlo,'DejaVu Sans Mono',consolas,'Courier New',monospace\"><span style=\"font-weight: bold\"> Optimizer params: </span><span style=\"color: #00af00; text-decoration-color: #00af00\">2</span> (12.00 B)\n",
       "</pre>\n"
      ],
      "text/plain": [
       "\u001b[1m Optimizer params: \u001b[0m\u001b[38;5;34m2\u001b[0m (12.00 B)\n"
      ]
     },
     "metadata": {},
     "output_type": "display_data"
    }
   ],
   "source": [
    "# Load the pre-trained model with ReLU activation\n",
    "model = load_model('simple_rnn_imdb.h5')\n",
    "model.summary()"
   ]
  },
  {
   "cell_type": "code",
   "execution_count": 4,
   "id": "9a030067-3d5f-4bd5-8f4a-ee410c14bdc5",
   "metadata": {},
   "outputs": [
    {
     "data": {
      "text/plain": [
       "[array([[ 0.4568768 ,  0.34802616,  0.69723535, ...,  0.52581286,\n",
       "         -0.37934288,  0.72751796],\n",
       "        [-0.14184119, -0.00497943,  0.02474584, ...,  0.16493864,\n",
       "         -0.01556082, -0.00359986],\n",
       "        [ 0.02116348, -0.00723236,  0.04866448, ...,  0.02503633,\n",
       "          0.01442885,  0.01372756],\n",
       "        ...,\n",
       "        [ 0.03659467,  0.08131047, -0.04614349, ..., -0.09263989,\n",
       "          0.03826377, -0.03049464],\n",
       "        [-0.0176955 ,  0.03127065, -0.09803501, ...,  0.11207188,\n",
       "          0.02108315, -0.04393371],\n",
       "        [ 0.06795461,  0.05261632, -0.03000186, ...,  0.03181056,\n",
       "          0.04334967, -0.02244823]], shape=(10000, 128), dtype=float32),\n",
       " array([[-0.05304012, -0.13059564, -0.02314784, ..., -0.24186818,\n",
       "         -0.12883575, -0.1666522 ],\n",
       "        [-0.21622214,  0.18834344,  0.0260146 , ...,  0.20862392,\n",
       "         -0.0413348 , -0.00141157],\n",
       "        [-0.08188776,  0.18058024,  0.07727779, ...,  0.29073107,\n",
       "          0.17498238,  0.18566114],\n",
       "        ...,\n",
       "        [-0.01231101,  0.06392112, -0.0956458 , ..., -0.15264258,\n",
       "         -0.1035017 , -0.08959169],\n",
       "        [ 0.1994745 , -0.23913471,  0.12814203, ...,  0.01214893,\n",
       "          0.05618782, -0.22348337],\n",
       "        [ 0.10025515,  0.2658926 , -0.01624548, ...,  0.09203969,\n",
       "         -0.00594652, -0.03592744]], shape=(128, 128), dtype=float32),\n",
       " array([[ 0.09786713, -0.15053979, -0.0766288 , ..., -0.07373845,\n",
       "         -0.07965094,  0.00231353],\n",
       "        [ 0.04763794,  0.03489633,  0.08057489, ..., -0.00940262,\n",
       "          0.03885867, -0.06419737],\n",
       "        [-0.13905285,  0.15446906, -0.12713149, ...,  0.0576466 ,\n",
       "         -0.08109934,  0.03834435],\n",
       "        ...,\n",
       "        [ 0.02205179,  0.00281498,  0.08908322, ..., -0.21572357,\n",
       "          0.04707481, -0.06955639],\n",
       "        [ 0.04511429,  0.06300919, -0.12394919, ..., -0.02713547,\n",
       "         -0.09278104, -0.04432666],\n",
       "        [ 0.10589964, -0.03558624,  0.10887837, ..., -0.08800459,\n",
       "         -0.12080286,  0.02766274]], shape=(128, 128), dtype=float32),\n",
       " array([-0.00292305, -0.00266308, -0.01555697, -0.00779608,  0.00627285,\n",
       "         0.00886001, -0.00102066, -0.02690522, -0.00435506, -0.01934494,\n",
       "         0.01149999,  0.02028968,  0.01446391,  0.00296804, -0.00263816,\n",
       "        -0.00061564,  0.02232169,  0.02201838, -0.00420068, -0.01820962,\n",
       "         0.00271659, -0.00697751,  0.04558886, -0.02467231, -0.00789427,\n",
       "        -0.00453569, -0.00757256, -0.02549267, -0.02694324,  0.01441134,\n",
       "        -0.00779189, -0.03786159, -0.03241321,  0.02582409, -0.00290121,\n",
       "        -0.00592782, -0.03431632,  0.03149325,  0.024706  , -0.01947648,\n",
       "         0.01471225, -0.0069088 ,  0.06462913, -0.00956956,  0.028719  ,\n",
       "        -0.00766   ,  0.00183163,  0.01846915,  0.03754346, -0.01782021,\n",
       "        -0.00026864, -0.00791334, -0.01434804, -0.03709582,  0.03802592,\n",
       "        -0.01694483,  0.01792485, -0.01134271, -0.01095734, -0.01467492,\n",
       "        -0.01725029, -0.01675647, -0.03341797,  0.00822562, -0.03195789,\n",
       "         0.00636682, -0.00791065,  0.0163383 , -0.0057663 ,  0.00896246,\n",
       "         0.00335343,  0.01737033,  0.02998966,  0.00303155, -0.04488188,\n",
       "         0.01463544, -0.03562719, -0.03197231,  0.01510625,  0.01165731,\n",
       "        -0.02164939,  0.03338002,  0.00701436,  0.01100698, -0.00170553,\n",
       "        -0.01076823,  0.0110077 , -0.02775741, -0.03720649,  0.00348004,\n",
       "        -0.01181668,  0.00488574,  0.02205149,  0.00747563, -0.05195376,\n",
       "         0.00545386, -0.01375744, -0.00042304, -0.0159482 ,  0.00534213,\n",
       "        -0.0071359 ,  0.02581679, -0.01136182,  0.02057785, -0.02008371,\n",
       "         0.04055985,  0.03635585,  0.01510186, -0.03996492, -0.01238819,\n",
       "         0.00402275, -0.01811323,  0.00343562, -0.02442976, -0.05135141,\n",
       "        -0.00017359, -0.07944301, -0.01375523,  0.03875818, -0.01059958,\n",
       "        -0.01261352, -0.05182815,  0.01528366, -0.00564988,  0.01061553,\n",
       "         0.06332627,  0.0184075 , -0.01748842], dtype=float32),\n",
       " array([[-0.0315562 ],\n",
       "        [ 0.47093326],\n",
       "        [ 0.02879878],\n",
       "        [-0.24894346],\n",
       "        [-0.4144908 ],\n",
       "        [ 0.10476093],\n",
       "        [ 0.1142662 ],\n",
       "        [-0.01558563],\n",
       "        [-0.10430683],\n",
       "        [-0.08950169],\n",
       "        [-0.29434827],\n",
       "        [ 0.24374996],\n",
       "        [-0.2203252 ],\n",
       "        [-0.13630635],\n",
       "        [ 0.04223922],\n",
       "        [ 0.08555422],\n",
       "        [-0.22550943],\n",
       "        [-0.3106511 ],\n",
       "        [ 0.04589464],\n",
       "        [-0.23454888],\n",
       "        [ 0.384477  ],\n",
       "        [-0.07715949],\n",
       "        [-0.01661952],\n",
       "        [ 0.132439  ],\n",
       "        [-0.33747482],\n",
       "        [-0.12689954],\n",
       "        [-0.27074304],\n",
       "        [ 0.15342219],\n",
       "        [ 0.1103585 ],\n",
       "        [-0.06904899],\n",
       "        [-0.19354497],\n",
       "        [-0.03324413],\n",
       "        [ 0.04254798],\n",
       "        [-0.3048631 ],\n",
       "        [-0.21580215],\n",
       "        [ 0.12976804],\n",
       "        [-0.23780052],\n",
       "        [-0.26457146],\n",
       "        [-0.08427744],\n",
       "        [ 0.11317908],\n",
       "        [ 0.13138573],\n",
       "        [-0.13649987],\n",
       "        [ 0.20727944],\n",
       "        [ 0.11597865],\n",
       "        [ 0.21883059],\n",
       "        [-0.4107363 ],\n",
       "        [ 0.07460555],\n",
       "        [-0.1403505 ],\n",
       "        [-0.32595143],\n",
       "        [ 0.10599349],\n",
       "        [-0.46316308],\n",
       "        [ 0.2103546 ],\n",
       "        [-0.30353105],\n",
       "        [-0.10939975],\n",
       "        [-0.48235887],\n",
       "        [-0.10961055],\n",
       "        [ 0.22063784],\n",
       "        [ 0.21355522],\n",
       "        [-0.12669764],\n",
       "        [-0.38769612],\n",
       "        [ 0.24509332],\n",
       "        [-0.16884314],\n",
       "        [ 0.21826023],\n",
       "        [-0.04666113],\n",
       "        [-0.02770252],\n",
       "        [ 0.30367354],\n",
       "        [-0.0521282 ],\n",
       "        [ 0.2936297 ],\n",
       "        [-0.38667774],\n",
       "        [-0.13883269],\n",
       "        [ 0.22980669],\n",
       "        [-0.35966808],\n",
       "        [ 0.22897325],\n",
       "        [-0.15305136],\n",
       "        [-0.03551599],\n",
       "        [-0.28036028],\n",
       "        [-0.18780172],\n",
       "        [-0.13718984],\n",
       "        [ 0.12008759],\n",
       "        [ 0.21096653],\n",
       "        [ 0.17573886],\n",
       "        [-0.33722866],\n",
       "        [ 0.04317461],\n",
       "        [-0.1655156 ],\n",
       "        [-0.19688207],\n",
       "        [ 0.3188848 ],\n",
       "        [ 0.238261  ],\n",
       "        [ 0.05684635],\n",
       "        [ 0.02220964],\n",
       "        [ 0.19443128],\n",
       "        [-0.1833088 ],\n",
       "        [ 0.15447418],\n",
       "        [ 0.20779856],\n",
       "        [-0.05555313],\n",
       "        [-0.44735628],\n",
       "        [ 0.25976998],\n",
       "        [-0.3427786 ],\n",
       "        [ 0.0620401 ],\n",
       "        [-0.04142756],\n",
       "        [-0.18272507],\n",
       "        [-0.25516886],\n",
       "        [ 0.16310544],\n",
       "        [ 0.23694918],\n",
       "        [ 0.2773241 ],\n",
       "        [-0.36682692],\n",
       "        [ 0.39841688],\n",
       "        [ 0.19467083],\n",
       "        [ 0.17115593],\n",
       "        [ 0.02618219],\n",
       "        [ 0.17539349],\n",
       "        [ 0.02299482],\n",
       "        [ 0.109217  ],\n",
       "        [-0.2741581 ],\n",
       "        [ 0.0011205 ],\n",
       "        [-0.03332264],\n",
       "        [ 0.13684365],\n",
       "        [-0.13234074],\n",
       "        [-0.19479065],\n",
       "        [ 0.22078551],\n",
       "        [ 0.2606241 ],\n",
       "        [-0.13905625],\n",
       "        [-0.15640654],\n",
       "        [ 0.24614675],\n",
       "        [-0.11643244],\n",
       "        [ 0.02005668],\n",
       "        [ 0.5406563 ],\n",
       "        [ 0.2711997 ],\n",
       "        [ 0.24515599]], dtype=float32),\n",
       " array([0.0383559], dtype=float32)]"
      ]
     },
     "execution_count": 4,
     "metadata": {},
     "output_type": "execute_result"
    }
   ],
   "source": [
    "model.get_weights()"
   ]
  },
  {
   "cell_type": "code",
   "execution_count": 5,
   "id": "a1561a4d-ad86-47f8-9e9e-b8811b9d2bd6",
   "metadata": {},
   "outputs": [],
   "source": [
    "# Step 2: Helper Functions\n",
    "# Function to decode reviews\n",
    "def decode_review(encoded_review):\n",
    "    return ' '.join([reverse_word_index.get(i - 3, '?') for i in encoded_review])\n",
    "\n",
    "# Function to preprocess user input\n",
    "def preprocess_text(text):\n",
    "    words = text.lower().split()\n",
    "    encoded_review = [word_index.get(word, 2) + 3 for word in words]\n",
    "    padded_review = sequence.pad_sequences([encoded_review], maxlen=500)\n",
    "    return padded_review"
   ]
  },
  {
   "cell_type": "code",
   "execution_count": 6,
   "id": "e1304518-2bd5-4f35-bfeb-d185f6429720",
   "metadata": {},
   "outputs": [],
   "source": [
    "### Prediction  function\n",
    "\n",
    "def predict_sentiment(review):\n",
    "    preprocessed_input=preprocess_text(review)\n",
    "\n",
    "    prediction=model.predict(preprocessed_input)\n",
    "\n",
    "    sentiment = 'Positive' if prediction[0][0] > 0.5 else 'Negative'\n",
    "    \n",
    "    return sentiment, prediction[0][0]\n",
    "\n"
   ]
  },
  {
   "cell_type": "code",
   "execution_count": 7,
   "id": "91898299-d150-458d-94f8-981694219817",
   "metadata": {},
   "outputs": [
    {
     "name": "stdout",
     "output_type": "stream",
     "text": [
      "\u001b[1m1/1\u001b[0m \u001b[32m━━━━━━━━━━━━━━━━━━━━\u001b[0m\u001b[37m\u001b[0m \u001b[1m0s\u001b[0m 104ms/step\n",
      "Review: This movie was very bad\n",
      "Sentiment: Negative\n",
      "Prediction Score: 0.4439925253391266\n"
     ]
    }
   ],
   "source": [
    "# Step 4: User Input and Prediction\n",
    "# Example review for prediction\n",
    "example_review = \"This movie was very bad\"\n",
    "\n",
    "sentiment,score=predict_sentiment(example_review)\n",
    "\n",
    "print(f'Review: {example_review}')\n",
    "print(f'Sentiment: {sentiment}')\n",
    "print(f'Prediction Score: {score}')"
   ]
  },
  {
   "cell_type": "code",
   "execution_count": null,
   "id": "e83e52cb-8453-4393-8de2-3103d59819c0",
   "metadata": {},
   "outputs": [],
   "source": []
  },
  {
   "cell_type": "code",
   "execution_count": null,
   "id": "4e13cf65-f705-479d-9137-45bd7774a668",
   "metadata": {},
   "outputs": [],
   "source": []
  }
 ],
 "metadata": {
  "kernelspec": {
   "display_name": "myenv",
   "language": "python",
   "name": "python3"
  },
  "language_info": {
   "codemirror_mode": {
    "name": "ipython",
    "version": 3
   },
   "file_extension": ".py",
   "mimetype": "text/x-python",
   "name": "python",
   "nbconvert_exporter": "python",
   "pygments_lexer": "ipython3",
   "version": "3.12.7"
  }
 },
 "nbformat": 4,
 "nbformat_minor": 5
}
