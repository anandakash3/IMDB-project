{
 "cells": [
  {
   "cell_type": "code",
   "execution_count": 18,
   "id": "0097ad8a-0f27-4ed2-8ac3-2b6f16606669",
   "metadata": {},
   "outputs": [],
   "source": [
    "# Step 1: Import Libraries and Load the Model\n",
    "import numpy as np\n",
    "import tensorflow as tf\n",
    "from tensorflow.keras.datasets import imdb\n",
    "from tensorflow.keras.preprocessing import sequence\n",
    "from tensorflow.keras.models import load_model"
   ]
  },
  {
   "cell_type": "code",
   "execution_count": 19,
   "id": "896e262d-06b7-42a3-8f3d-5945655e219f",
   "metadata": {},
   "outputs": [],
   "source": [
    "# Load the IMDB dataset word index\n",
    "word_index = imdb.get_word_index()\n",
    "reverse_word_index = {value: key for key, value in word_index.items()}"
   ]
  },
  {
   "cell_type": "code",
   "execution_count": 20,
   "id": "750fd583-7204-494d-8e77-4dd4474e9b3e",
   "metadata": {},
   "outputs": [
    {
     "name": "stderr",
     "output_type": "stream",
     "text": [
      "WARNING:absl:Compiled the loaded model, but the compiled metrics have yet to be built. `model.compile_metrics` will be empty until you train or evaluate the model.\n"
     ]
    },
    {
     "data": {
      "text/html": [
       "<pre style=\"white-space:pre;overflow-x:auto;line-height:normal;font-family:Menlo,'DejaVu Sans Mono',consolas,'Courier New',monospace\"><span style=\"font-weight: bold\">Model: \"sequential\"</span>\n",
       "</pre>\n"
      ],
      "text/plain": [
       "\u001b[1mModel: \"sequential\"\u001b[0m\n"
      ]
     },
     "metadata": {},
     "output_type": "display_data"
    },
    {
     "data": {
      "text/html": [
       "<pre style=\"white-space:pre;overflow-x:auto;line-height:normal;font-family:Menlo,'DejaVu Sans Mono',consolas,'Courier New',monospace\">┏━━━━━━━━━━━━━━━━━━━━━━━━━━━━━━━━━┳━━━━━━━━━━━━━━━━━━━━━━━━┳━━━━━━━━━━━━━━━┓\n",
       "┃<span style=\"font-weight: bold\"> Layer (type)                    </span>┃<span style=\"font-weight: bold\"> Output Shape           </span>┃<span style=\"font-weight: bold\">       Param # </span>┃\n",
       "┡━━━━━━━━━━━━━━━━━━━━━━━━━━━━━━━━━╇━━━━━━━━━━━━━━━━━━━━━━━━╇━━━━━━━━━━━━━━━┩\n",
       "│ embedding (<span style=\"color: #0087ff; text-decoration-color: #0087ff\">Embedding</span>)           │ (<span style=\"color: #00af00; text-decoration-color: #00af00\">32</span>, <span style=\"color: #00af00; text-decoration-color: #00af00\">500</span>, <span style=\"color: #00af00; text-decoration-color: #00af00\">128</span>)         │     <span style=\"color: #00af00; text-decoration-color: #00af00\">1,280,000</span> │\n",
       "├─────────────────────────────────┼────────────────────────┼───────────────┤\n",
       "│ simple_rnn (<span style=\"color: #0087ff; text-decoration-color: #0087ff\">SimpleRNN</span>)          │ (<span style=\"color: #00af00; text-decoration-color: #00af00\">32</span>, <span style=\"color: #00af00; text-decoration-color: #00af00\">128</span>)              │        <span style=\"color: #00af00; text-decoration-color: #00af00\">32,896</span> │\n",
       "├─────────────────────────────────┼────────────────────────┼───────────────┤\n",
       "│ dense (<span style=\"color: #0087ff; text-decoration-color: #0087ff\">Dense</span>)                   │ (<span style=\"color: #00af00; text-decoration-color: #00af00\">32</span>, <span style=\"color: #00af00; text-decoration-color: #00af00\">1</span>)                │           <span style=\"color: #00af00; text-decoration-color: #00af00\">129</span> │\n",
       "└─────────────────────────────────┴────────────────────────┴───────────────┘\n",
       "</pre>\n"
      ],
      "text/plain": [
       "┏━━━━━━━━━━━━━━━━━━━━━━━━━━━━━━━━━┳━━━━━━━━━━━━━━━━━━━━━━━━┳━━━━━━━━━━━━━━━┓\n",
       "┃\u001b[1m \u001b[0m\u001b[1mLayer (type)                   \u001b[0m\u001b[1m \u001b[0m┃\u001b[1m \u001b[0m\u001b[1mOutput Shape          \u001b[0m\u001b[1m \u001b[0m┃\u001b[1m \u001b[0m\u001b[1m      Param #\u001b[0m\u001b[1m \u001b[0m┃\n",
       "┡━━━━━━━━━━━━━━━━━━━━━━━━━━━━━━━━━╇━━━━━━━━━━━━━━━━━━━━━━━━╇━━━━━━━━━━━━━━━┩\n",
       "│ embedding (\u001b[38;5;33mEmbedding\u001b[0m)           │ (\u001b[38;5;34m32\u001b[0m, \u001b[38;5;34m500\u001b[0m, \u001b[38;5;34m128\u001b[0m)         │     \u001b[38;5;34m1,280,000\u001b[0m │\n",
       "├─────────────────────────────────┼────────────────────────┼───────────────┤\n",
       "│ simple_rnn (\u001b[38;5;33mSimpleRNN\u001b[0m)          │ (\u001b[38;5;34m32\u001b[0m, \u001b[38;5;34m128\u001b[0m)              │        \u001b[38;5;34m32,896\u001b[0m │\n",
       "├─────────────────────────────────┼────────────────────────┼───────────────┤\n",
       "│ dense (\u001b[38;5;33mDense\u001b[0m)                   │ (\u001b[38;5;34m32\u001b[0m, \u001b[38;5;34m1\u001b[0m)                │           \u001b[38;5;34m129\u001b[0m │\n",
       "└─────────────────────────────────┴────────────────────────┴───────────────┘\n"
      ]
     },
     "metadata": {},
     "output_type": "display_data"
    },
    {
     "data": {
      "text/html": [
       "<pre style=\"white-space:pre;overflow-x:auto;line-height:normal;font-family:Menlo,'DejaVu Sans Mono',consolas,'Courier New',monospace\"><span style=\"font-weight: bold\"> Total params: </span><span style=\"color: #00af00; text-decoration-color: #00af00\">1,313,027</span> (5.01 MB)\n",
       "</pre>\n"
      ],
      "text/plain": [
       "\u001b[1m Total params: \u001b[0m\u001b[38;5;34m1,313,027\u001b[0m (5.01 MB)\n"
      ]
     },
     "metadata": {},
     "output_type": "display_data"
    },
    {
     "data": {
      "text/html": [
       "<pre style=\"white-space:pre;overflow-x:auto;line-height:normal;font-family:Menlo,'DejaVu Sans Mono',consolas,'Courier New',monospace\"><span style=\"font-weight: bold\"> Trainable params: </span><span style=\"color: #00af00; text-decoration-color: #00af00\">1,313,025</span> (5.01 MB)\n",
       "</pre>\n"
      ],
      "text/plain": [
       "\u001b[1m Trainable params: \u001b[0m\u001b[38;5;34m1,313,025\u001b[0m (5.01 MB)\n"
      ]
     },
     "metadata": {},
     "output_type": "display_data"
    },
    {
     "data": {
      "text/html": [
       "<pre style=\"white-space:pre;overflow-x:auto;line-height:normal;font-family:Menlo,'DejaVu Sans Mono',consolas,'Courier New',monospace\"><span style=\"font-weight: bold\"> Non-trainable params: </span><span style=\"color: #00af00; text-decoration-color: #00af00\">0</span> (0.00 B)\n",
       "</pre>\n"
      ],
      "text/plain": [
       "\u001b[1m Non-trainable params: \u001b[0m\u001b[38;5;34m0\u001b[0m (0.00 B)\n"
      ]
     },
     "metadata": {},
     "output_type": "display_data"
    },
    {
     "data": {
      "text/html": [
       "<pre style=\"white-space:pre;overflow-x:auto;line-height:normal;font-family:Menlo,'DejaVu Sans Mono',consolas,'Courier New',monospace\"><span style=\"font-weight: bold\"> Optimizer params: </span><span style=\"color: #00af00; text-decoration-color: #00af00\">2</span> (12.00 B)\n",
       "</pre>\n"
      ],
      "text/plain": [
       "\u001b[1m Optimizer params: \u001b[0m\u001b[38;5;34m2\u001b[0m (12.00 B)\n"
      ]
     },
     "metadata": {},
     "output_type": "display_data"
    }
   ],
   "source": [
    "# Load the pre-trained model with ReLU activation\n",
    "model = load_model('simple_rnn_imdb.h5')\n",
    "model.summary()"
   ]
  },
  {
   "cell_type": "code",
   "execution_count": 21,
   "id": "9a030067-3d5f-4bd5-8f4a-ee410c14bdc5",
   "metadata": {},
   "outputs": [
    {
     "data": {
      "text/plain": [
       "[array([[ 0.7459062 ,  0.28310716, -0.7853673 , ...,  0.93985504,\n",
       "          1.0822892 ,  0.13180554],\n",
       "        [ 0.04227727,  0.08171798,  0.04294917, ...,  0.06094089,\n",
       "         -0.09981112,  0.02657499],\n",
       "        [ 0.14301085,  0.15150896,  0.09030858, ...,  0.32099816,\n",
       "         -0.1411708 ,  0.0297327 ],\n",
       "        ...,\n",
       "        [-0.0163889 ,  0.0195411 ,  0.070507  , ...,  0.07326312,\n",
       "         -0.02016612,  0.0184334 ],\n",
       "        [-0.07849815,  0.03916432, -0.06699153, ..., -0.04901084,\n",
       "         -0.04538602,  0.01703917],\n",
       "        [ 0.06403203,  0.01419836,  0.07708262, ...,  0.06408641,\n",
       "          0.03462506, -0.01446344]], dtype=float32),\n",
       " array([[ 0.1644883 ,  0.08379313,  0.10171721, ...,  0.08384845,\n",
       "         -0.15424138, -0.00622743],\n",
       "        [-0.01108848, -0.04066084, -0.16917254, ...,  0.03502866,\n",
       "          0.08566686, -0.11625463],\n",
       "        [ 0.07240215,  0.03770383,  0.08732058, ...,  0.07443541,\n",
       "          0.07043701, -0.03523995],\n",
       "        ...,\n",
       "        [-0.06228855, -0.03102343, -0.01262417, ...,  0.05167669,\n",
       "          0.04257939,  0.08134072],\n",
       "        [-0.06070792,  0.06053308,  0.0588102 , ..., -0.0101348 ,\n",
       "          0.14851661,  0.02864762],\n",
       "        [-0.09430007, -0.10236054, -0.07809956, ..., -0.02130648,\n",
       "         -0.02777928, -0.13913622]], dtype=float32),\n",
       " array([[-0.03912965, -0.13708052, -0.11240587, ..., -0.02812257,\n",
       "          0.00032211, -0.19900313],\n",
       "        [-0.16001785,  0.10631736, -0.03280391, ..., -0.10624368,\n",
       "          0.01356707,  0.04986878],\n",
       "        [ 0.00199495,  0.09759405, -0.10318235, ...,  0.01354469,\n",
       "         -0.00335917, -0.02310271],\n",
       "        ...,\n",
       "        [-0.02901308,  0.14684902,  0.07093856, ..., -0.03049113,\n",
       "         -0.02865268, -0.05466418],\n",
       "        [-0.02066553, -0.00605849, -0.07725162, ...,  0.15623048,\n",
       "         -0.1570058 , -0.03781754],\n",
       "        [ 0.21561629, -0.09418673, -0.00822349, ...,  0.01027414,\n",
       "          0.24853124, -0.01491443]], dtype=float32),\n",
       " array([-0.01801583,  0.00714853, -0.02806724, -0.04961587, -0.02658734,\n",
       "         0.00262309,  0.00181716, -0.02789939, -0.04275462, -0.00291937,\n",
       "        -0.07410062, -0.01621664,  0.02059705,  0.01659529, -0.07560993,\n",
       "        -0.03342612, -0.06563183, -0.06002964, -0.02153452, -0.03633816,\n",
       "         0.01780726, -0.04182166,  0.03400092, -0.01124325, -0.03652209,\n",
       "         0.01810004, -0.01044144, -0.04073652,  0.0005251 , -0.00822516,\n",
       "        -0.05645292,  0.00318084, -0.01537235, -0.01978646, -0.02865192,\n",
       "        -0.05655498, -0.06921663,  0.03950759,  0.01189986, -0.05869257,\n",
       "         0.00934575, -0.00585628,  0.01114737, -0.03874037, -0.07220351,\n",
       "        -0.02488417, -0.02239974, -0.04858118, -0.06110568, -0.00084473,\n",
       "         0.00981127,  0.00971055, -0.02741846, -0.05638223, -0.0479996 ,\n",
       "        -0.02820225, -0.04140904,  0.06210366, -0.05690126, -0.05769829,\n",
       "        -0.01207051, -0.03579844, -0.00538661, -0.01781673, -0.06702881,\n",
       "        -0.03157478,  0.01093049, -0.04513149,  0.03729459,  0.01312885,\n",
       "        -0.01084932, -0.03861687, -0.023575  , -0.03544774, -0.00972218,\n",
       "        -0.0079706 , -0.05466133,  0.01832467,  0.05551109,  0.02236803,\n",
       "        -0.0230775 , -0.05689659, -0.01708457,  0.00372217, -0.06917712,\n",
       "         0.03324041, -0.02000244, -0.01264536, -0.02308726,  0.04862853,\n",
       "         0.00406766, -0.04494456, -0.00466657,  0.03174545, -0.03369635,\n",
       "        -0.01330839,  0.01683027, -0.03820677,  0.03896496, -0.02211598,\n",
       "         0.02789451,  0.03143854, -0.03587077, -0.04057452, -0.08051258,\n",
       "        -0.0364311 , -0.03139064, -0.06208867, -0.0252168 , -0.06954412,\n",
       "        -0.06039397, -0.00887199, -0.01499233, -0.00298331, -0.05940077,\n",
       "         0.04807506,  0.06819721, -0.01407722, -0.08288476, -0.02945181,\n",
       "        -0.05758007, -0.00939549,  0.0119268 , -0.01609776, -0.0096645 ,\n",
       "        -0.00438179, -0.05844755, -0.04386349], dtype=float32),\n",
       " array([[-1.21208519e-01],\n",
       "        [ 7.88694769e-02],\n",
       "        [ 1.82570070e-01],\n",
       "        [-1.61198914e-01],\n",
       "        [ 6.27140775e-02],\n",
       "        [ 1.34765297e-01],\n",
       "        [-1.16291508e-01],\n",
       "        [ 5.80431186e-02],\n",
       "        [ 2.70342112e-01],\n",
       "        [-5.72300097e-03],\n",
       "        [-2.30426267e-01],\n",
       "        [ 1.63872972e-01],\n",
       "        [ 1.36790171e-01],\n",
       "        [-1.19394943e-01],\n",
       "        [-2.06404567e-01],\n",
       "        [ 1.04112871e-01],\n",
       "        [-2.30334565e-01],\n",
       "        [ 2.07942147e-02],\n",
       "        [-4.18868288e-02],\n",
       "        [-7.96366856e-02],\n",
       "        [ 6.98913708e-02],\n",
       "        [ 1.76030070e-01],\n",
       "        [ 3.71937864e-02],\n",
       "        [-1.03702217e-01],\n",
       "        [-3.26509863e-01],\n",
       "        [ 8.86437483e-03],\n",
       "        [-1.28317937e-01],\n",
       "        [ 1.23586871e-01],\n",
       "        [-9.75126550e-02],\n",
       "        [-7.02940747e-02],\n",
       "        [-1.95684254e-01],\n",
       "        [ 7.53297135e-02],\n",
       "        [-1.31402194e-01],\n",
       "        [ 1.33113772e-01],\n",
       "        [ 1.13700002e-01],\n",
       "        [ 1.88863948e-01],\n",
       "        [-1.50722206e-01],\n",
       "        [-2.19148204e-01],\n",
       "        [ 2.44446713e-02],\n",
       "        [ 4.34363224e-02],\n",
       "        [ 5.28295413e-02],\n",
       "        [ 1.02399103e-01],\n",
       "        [ 2.00915083e-01],\n",
       "        [-1.80475675e-02],\n",
       "        [-3.33531559e-01],\n",
       "        [ 2.03322127e-01],\n",
       "        [ 1.61978930e-01],\n",
       "        [ 1.48020256e-02],\n",
       "        [ 1.36410236e-01],\n",
       "        [ 1.55112609e-01],\n",
       "        [-4.57425900e-02],\n",
       "        [ 7.04152510e-02],\n",
       "        [ 9.45278406e-02],\n",
       "        [-1.54528514e-01],\n",
       "        [-2.00641721e-01],\n",
       "        [ 7.55306408e-02],\n",
       "        [ 1.22635484e-01],\n",
       "        [ 2.72410065e-01],\n",
       "        [ 2.50427246e-01],\n",
       "        [-7.64167681e-02],\n",
       "        [ 2.64088273e-01],\n",
       "        [-9.99173298e-02],\n",
       "        [ 1.66314021e-01],\n",
       "        [ 5.04327975e-02],\n",
       "        [ 1.10585213e-01],\n",
       "        [ 2.17118129e-01],\n",
       "        [-8.60746279e-02],\n",
       "        [-8.09094608e-02],\n",
       "        [-1.50490165e-01],\n",
       "        [ 1.72583267e-01],\n",
       "        [-3.83340597e-01],\n",
       "        [ 7.45356977e-02],\n",
       "        [ 2.49876708e-01],\n",
       "        [-3.13233465e-01],\n",
       "        [-2.28397369e-01],\n",
       "        [ 1.19180761e-01],\n",
       "        [-2.84345716e-01],\n",
       "        [-7.22128386e-03],\n",
       "        [ 1.46956891e-01],\n",
       "        [ 5.01549393e-02],\n",
       "        [ 5.87800220e-02],\n",
       "        [ 1.81802288e-02],\n",
       "        [ 1.33588433e-01],\n",
       "        [ 2.05109194e-02],\n",
       "        [-2.11312562e-01],\n",
       "        [ 3.90319191e-02],\n",
       "        [-3.48004669e-01],\n",
       "        [-6.39069438e-01],\n",
       "        [ 1.78493559e-01],\n",
       "        [-4.92776036e-01],\n",
       "        [-1.17363200e-01],\n",
       "        [ 1.37628689e-01],\n",
       "        [ 1.04469366e-01],\n",
       "        [ 5.06692901e-02],\n",
       "        [-1.41187057e-01],\n",
       "        [ 1.70056537e-01],\n",
       "        [ 1.58200324e-01],\n",
       "        [ 3.28305028e-02],\n",
       "        [ 5.23305908e-02],\n",
       "        [-7.96030313e-02],\n",
       "        [-1.68433398e-01],\n",
       "        [-1.74240377e-02],\n",
       "        [ 1.69002205e-01],\n",
       "        [ 1.41914878e-02],\n",
       "        [-2.75319219e-01],\n",
       "        [-1.30237922e-01],\n",
       "        [-1.46870583e-01],\n",
       "        [ 2.06977934e-01],\n",
       "        [-1.18944244e-02],\n",
       "        [-7.55701587e-02],\n",
       "        [ 5.53310439e-02],\n",
       "        [ 1.36469249e-02],\n",
       "        [ 1.16247885e-01],\n",
       "        [ 1.46623790e-01],\n",
       "        [-7.73638040e-02],\n",
       "        [ 2.78833658e-01],\n",
       "        [ 1.28197879e-01],\n",
       "        [ 7.30712563e-02],\n",
       "        [ 5.28584532e-02],\n",
       "        [ 1.87643170e-01],\n",
       "        [ 7.66128476e-04],\n",
       "        [-1.48851708e-01],\n",
       "        [-2.37632822e-02],\n",
       "        [ 2.21763968e-01],\n",
       "        [ 9.13473368e-02],\n",
       "        [ 2.00125217e-01],\n",
       "        [ 3.68472014e-04],\n",
       "        [ 1.26378313e-01]], dtype=float32),\n",
       " array([-0.69183093], dtype=float32)]"
      ]
     },
     "execution_count": 21,
     "metadata": {},
     "output_type": "execute_result"
    }
   ],
   "source": [
    "model.get_weights()"
   ]
  },
  {
   "cell_type": "code",
   "execution_count": 22,
   "id": "a1561a4d-ad86-47f8-9e9e-b8811b9d2bd6",
   "metadata": {},
   "outputs": [],
   "source": [
    "# Step 2: Helper Functions\n",
    "# Function to decode reviews\n",
    "def decode_review(encoded_review):\n",
    "    return ' '.join([reverse_word_index.get(i - 3, '?') for i in encoded_review])\n",
    "\n",
    "# Function to preprocess user input\n",
    "def preprocess_text(text):\n",
    "    words = text.lower().split()\n",
    "    encoded_review = [word_index.get(word, 2) + 3 for word in words]\n",
    "    padded_review = sequence.pad_sequences([encoded_review], maxlen=500)\n",
    "    return padded_review"
   ]
  },
  {
   "cell_type": "code",
   "execution_count": 23,
   "id": "e1304518-2bd5-4f35-bfeb-d185f6429720",
   "metadata": {},
   "outputs": [],
   "source": [
    "### Prediction  function\n",
    "\n",
    "def predict_sentiment(review):\n",
    "    preprocessed_input=preprocess_text(review)\n",
    "\n",
    "    prediction=model.predict(preprocessed_input)\n",
    "\n",
    "    sentiment = 'Positive' if prediction[0][0] > 0.5 else 'Negative'\n",
    "    \n",
    "    return sentiment, prediction[0][0]\n",
    "\n"
   ]
  },
  {
   "cell_type": "code",
   "execution_count": 40,
   "id": "91898299-d150-458d-94f8-981694219817",
   "metadata": {},
   "outputs": [
    {
     "name": "stdout",
     "output_type": "stream",
     "text": [
      "\u001b[1m1/1\u001b[0m \u001b[32m━━━━━━━━━━━━━━━━━━━━\u001b[0m\u001b[37m\u001b[0m \u001b[1m8s\u001b[0m 8s/step\n",
      "Review: This movie was very bad\n",
      "Sentiment: Negative\n",
      "Prediction Score: 0.4163796007633209\n"
     ]
    }
   ],
   "source": [
    "# Step 4: User Input and Prediction\n",
    "# Example review for prediction\n",
    "example_review = \"This movie was very bad\"\n",
    "\n",
    "sentiment,score=predict_sentiment(example_review)\n",
    "\n",
    "print(f'Review: {example_review}')\n",
    "print(f'Sentiment: {sentiment}')\n",
    "print(f'Prediction Score: {score}')"
   ]
  },
  {
   "cell_type": "code",
   "execution_count": null,
   "id": "e83e52cb-8453-4393-8de2-3103d59819c0",
   "metadata": {},
   "outputs": [],
   "source": []
  },
  {
   "cell_type": "code",
   "execution_count": null,
   "id": "4e13cf65-f705-479d-9137-45bd7774a668",
   "metadata": {},
   "outputs": [],
   "source": []
  }
 ],
 "metadata": {
  "kernelspec": {
   "display_name": "Python (tf_m1)",
   "language": "python",
   "name": "tf_m1"
  },
  "language_info": {
   "codemirror_mode": {
    "name": "ipython",
    "version": 3
   },
   "file_extension": ".py",
   "mimetype": "text/x-python",
   "name": "python",
   "nbconvert_exporter": "python",
   "pygments_lexer": "ipython3",
   "version": "3.9.23"
  }
 },
 "nbformat": 4,
 "nbformat_minor": 5
}
